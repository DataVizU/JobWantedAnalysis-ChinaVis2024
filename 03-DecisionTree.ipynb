{
 "cells": [
  {
   "metadata": {},
   "cell_type": "markdown",
   "source": [
    "## 4.3 问题三\n",
    "\n",
    "### 4.3.1 分析与设计\n",
    "\n",
    "本作品从行业、一级行政区划、学历要求和经验要求四个维度分析职位的薪酬待遇。为了确定上述维度对于薪酬待遇的影响程度，本作品使用决策树模型进行分析。分析结果表明，上述维度对薪酬待遇影响程度由高到低依次为：学历要求，行业，经验要求，一级行政区划。"
   ],
   "id": "900b3568c87575c2"
  },
  {
   "metadata": {
    "collapsed": true,
    "ExecuteTime": {
     "end_time": "2024-10-12T03:08:05.847664Z",
     "start_time": "2024-10-12T03:08:05.844112Z"
    }
   },
   "cell_type": "code",
   "source": [
    "import pandas as pd\n",
    "from sklearn.model_selection import train_test_split\n",
    "from sklearn.tree import DecisionTreeRegressor\n",
    "from sklearn.preprocessing import OneHotEncoder, LabelEncoder\n",
    "from sklearn.compose import ColumnTransformer\n",
    "from sklearn.pipeline import Pipeline\n",
    "from sklearn.metrics import mean_squared_error, r2_score, accuracy_score, f1_score\n",
    "from joblib import dump\n",
    "from math import sqrt\n",
    "from sklearn.tree import plot_tree\n",
    "import matplotlib.pyplot as plt\n",
    "import re\n",
    "import numpy as np\n",
    "from math import ceil\n",
    "from collections import defaultdict"
   ],
   "id": "initial_id",
   "outputs": [],
   "execution_count": 17
  },
  {
   "metadata": {
    "ExecuteTime": {
     "end_time": "2024-10-12T03:08:06.035168Z",
     "start_time": "2024-10-12T03:08:05.876959Z"
    }
   },
   "cell_type": "code",
   "source": "df = pd.read_csv(\"data/final/FixedSalaryFinal.csv\")",
   "id": "671f9e43ff61f12a",
   "outputs": [],
   "execution_count": 18
  },
  {
   "metadata": {
    "ExecuteTime": {
     "end_time": "2024-10-12T03:08:06.046596Z",
     "start_time": "2024-10-12T03:08:06.041981Z"
    }
   },
   "cell_type": "code",
   "source": "df.head(5)",
   "id": "e73dfdcc73b5e6ff",
   "outputs": [
    {
     "data": {
      "text/plain": [
       "                                  _id  city    salary experience education  \\\n",
       "0  0021d67ace2b055296445ba037bb8014vw  B383  4-6K·15薪        EKk        GP   \n",
       "1  0021d67ace2b055296445ba037bb8014vw  D672      4-5K        EdD        GP   \n",
       "2  0021d67ace2b055296445ba037bb8014vw  D832      2-4K        EdD        GP   \n",
       "3  0021d67ace2b055296445ba037bb8014vw  E027      3-4K        EdD        GP   \n",
       "4  0021d67ace2b055296445ba037bb8014vw  E727      3-4K        EdD        Gy   \n",
       "\n",
       "          company  companyType salary_type  salary_min  salary_max  \\\n",
       "0  company_453698  type_uTAWZv         B15       60000       90000   \n",
       "1  company_419070  type_uTAWZv           M       48000       60000   \n",
       "2  company_592101  type_uTAWZv           M       24000       48000   \n",
       "3  company_415791  type_uTAWZv           M       36000       48000   \n",
       "4  company_822152  type_lwxCGv           M       36000       48000   \n",
       "\n",
       "   salary_base province  is_outlier  \n",
       "0           15        B       False  \n",
       "1           12        D       False  \n",
       "2           12        D       False  \n",
       "3           12        E       False  \n",
       "4           12        E       False  "
      ],
      "text/html": [
       "<div>\n",
       "<style scoped>\n",
       "    .dataframe tbody tr th:only-of-type {\n",
       "        vertical-align: middle;\n",
       "    }\n",
       "\n",
       "    .dataframe tbody tr th {\n",
       "        vertical-align: top;\n",
       "    }\n",
       "\n",
       "    .dataframe thead th {\n",
       "        text-align: right;\n",
       "    }\n",
       "</style>\n",
       "<table border=\"1\" class=\"dataframe\">\n",
       "  <thead>\n",
       "    <tr style=\"text-align: right;\">\n",
       "      <th></th>\n",
       "      <th>_id</th>\n",
       "      <th>city</th>\n",
       "      <th>salary</th>\n",
       "      <th>experience</th>\n",
       "      <th>education</th>\n",
       "      <th>company</th>\n",
       "      <th>companyType</th>\n",
       "      <th>salary_type</th>\n",
       "      <th>salary_min</th>\n",
       "      <th>salary_max</th>\n",
       "      <th>salary_base</th>\n",
       "      <th>province</th>\n",
       "      <th>is_outlier</th>\n",
       "    </tr>\n",
       "  </thead>\n",
       "  <tbody>\n",
       "    <tr>\n",
       "      <th>0</th>\n",
       "      <td>0021d67ace2b055296445ba037bb8014vw</td>\n",
       "      <td>B383</td>\n",
       "      <td>4-6K·15薪</td>\n",
       "      <td>EKk</td>\n",
       "      <td>GP</td>\n",
       "      <td>company_453698</td>\n",
       "      <td>type_uTAWZv</td>\n",
       "      <td>B15</td>\n",
       "      <td>60000</td>\n",
       "      <td>90000</td>\n",
       "      <td>15</td>\n",
       "      <td>B</td>\n",
       "      <td>False</td>\n",
       "    </tr>\n",
       "    <tr>\n",
       "      <th>1</th>\n",
       "      <td>0021d67ace2b055296445ba037bb8014vw</td>\n",
       "      <td>D672</td>\n",
       "      <td>4-5K</td>\n",
       "      <td>EdD</td>\n",
       "      <td>GP</td>\n",
       "      <td>company_419070</td>\n",
       "      <td>type_uTAWZv</td>\n",
       "      <td>M</td>\n",
       "      <td>48000</td>\n",
       "      <td>60000</td>\n",
       "      <td>12</td>\n",
       "      <td>D</td>\n",
       "      <td>False</td>\n",
       "    </tr>\n",
       "    <tr>\n",
       "      <th>2</th>\n",
       "      <td>0021d67ace2b055296445ba037bb8014vw</td>\n",
       "      <td>D832</td>\n",
       "      <td>2-4K</td>\n",
       "      <td>EdD</td>\n",
       "      <td>GP</td>\n",
       "      <td>company_592101</td>\n",
       "      <td>type_uTAWZv</td>\n",
       "      <td>M</td>\n",
       "      <td>24000</td>\n",
       "      <td>48000</td>\n",
       "      <td>12</td>\n",
       "      <td>D</td>\n",
       "      <td>False</td>\n",
       "    </tr>\n",
       "    <tr>\n",
       "      <th>3</th>\n",
       "      <td>0021d67ace2b055296445ba037bb8014vw</td>\n",
       "      <td>E027</td>\n",
       "      <td>3-4K</td>\n",
       "      <td>EdD</td>\n",
       "      <td>GP</td>\n",
       "      <td>company_415791</td>\n",
       "      <td>type_uTAWZv</td>\n",
       "      <td>M</td>\n",
       "      <td>36000</td>\n",
       "      <td>48000</td>\n",
       "      <td>12</td>\n",
       "      <td>E</td>\n",
       "      <td>False</td>\n",
       "    </tr>\n",
       "    <tr>\n",
       "      <th>4</th>\n",
       "      <td>0021d67ace2b055296445ba037bb8014vw</td>\n",
       "      <td>E727</td>\n",
       "      <td>3-4K</td>\n",
       "      <td>EdD</td>\n",
       "      <td>Gy</td>\n",
       "      <td>company_822152</td>\n",
       "      <td>type_lwxCGv</td>\n",
       "      <td>M</td>\n",
       "      <td>36000</td>\n",
       "      <td>48000</td>\n",
       "      <td>12</td>\n",
       "      <td>E</td>\n",
       "      <td>False</td>\n",
       "    </tr>\n",
       "  </tbody>\n",
       "</table>\n",
       "</div>"
      ]
     },
     "execution_count": 19,
     "metadata": {},
     "output_type": "execute_result"
    }
   ],
   "execution_count": 19
  },
  {
   "metadata": {},
   "cell_type": "markdown",
   "source": "### 预处理",
   "id": "2c08a8c2065ad265"
  },
  {
   "metadata": {
    "ExecuteTime": {
     "end_time": "2024-10-12T03:08:09.503735Z",
     "start_time": "2024-10-12T03:08:06.073030Z"
    }
   },
   "cell_type": "code",
   "source": [
    "df.sort_values(by=[\"province\", \"city\"], inplace=True)\n",
    "df[\"new_city_code\"] = None\n",
    "\n",
    "current_code = 0\n",
    "previous_province = None\n",
    "previous_citycode = None\n",
    "for index, row in df.iterrows():\n",
    "    if row[\"province\"] != previous_province:\n",
    "        current_code = 0\n",
    "    if index:\n",
    "        if previous_citycode != row[\"city\"]:\n",
    "            current_code += 1\n",
    "\n",
    "    df.at[index, \"new_city_code\"] = current_code\n",
    "    previous_province = row[\"province\"]\n",
    "    previous_citycode = row[\"city\"]"
   ],
   "id": "be3561202595e3a4",
   "outputs": [],
   "execution_count": 20
  },
  {
   "metadata": {
    "ExecuteTime": {
     "end_time": "2024-10-12T03:08:12.424635Z",
     "start_time": "2024-10-12T03:08:09.521852Z"
    }
   },
   "cell_type": "code",
   "source": [
    "counter = defaultdict(int)\n",
    "for index, row in df.iterrows():\n",
    "    company_type = row[\"companyType\"]\n",
    "    first_ = company_type[5:6]\n",
    "    counter[first_] += 1\n",
    "\n",
    "    df.at[index, \"companyType_first\"] = first_"
   ],
   "id": "6407564754e68ef2",
   "outputs": [],
   "execution_count": 21
  },
  {
   "metadata": {
    "ExecuteTime": {
     "end_time": "2024-10-12T03:08:12.442212Z",
     "start_time": "2024-10-12T03:08:12.435881Z"
    }
   },
   "cell_type": "code",
   "source": "df",
   "id": "509a4e99dd8bf574",
   "outputs": [
    {
     "data": {
      "text/plain": [
       "                                       _id  city  salary experience education  \\\n",
       "435     02120b8a907537fee739216562384f27Lf  A050    5-9K        EdD        GI   \n",
       "714     0267d6bf768486fee9e135bb99d78821Km  A050  10-15K        Eqh        GI   \n",
       "3410    04c26f94437c683d665b894696218457go  A050   5-10K        EdD        GP   \n",
       "3538    050716a1e3496566de850636d9e7eb8dUa  A050    3-4K        EdD        GP   \n",
       "3856    0508d7be415a54eba97a968f8dacd55chL  A050   5-10K        EKk        GP   \n",
       "...                                    ...   ...     ...        ...       ...   \n",
       "154876  edb8f555c04b654d9b005d76b63ffc76rZ  Z885    5-6K        EdD        GP   \n",
       "155868  efaa2b8bd2a6b5ba1400b8f9d5a4c302ub  Z885    4-6K        EdD        Go   \n",
       "159443  f59c44a5dd839c3438d134bd4c30a69bJx  Z885    4-9K        EdD        GI   \n",
       "160742  f693da772b6ba497215104c0b3c3f571hM  Z885    4-5K        EdD        GP   \n",
       "163279  fe2f46167b107413f778865ed496791dkk  Z885    4-9K        Eas        GP   \n",
       "\n",
       "               company  companyType salary_type  salary_min  salary_max  \\\n",
       "435     company_495997  type_ZcPYrP           M       60000      108000   \n",
       "714     company_824862  type_fFlUqG           M      120000      180000   \n",
       "3410    company_797398  type_ruszQK           M       60000      120000   \n",
       "3538    company_779366  type_kCfcsh           M       36000       48000   \n",
       "3856    company_522422  type_fFlUqG           M       60000      120000   \n",
       "...                ...          ...         ...         ...         ...   \n",
       "154876  company_601372  type_qGLNuz           M       60000       72000   \n",
       "155868  company_782797  type_XqvUzw           M       48000       72000   \n",
       "159443  company_682974  type_lOdYUb           M       48000      108000   \n",
       "160742  company_144052  type_PCcrub           M       48000       60000   \n",
       "163279  company_454718  type_qrSFSq           M       48000      108000   \n",
       "\n",
       "        salary_base province  is_outlier new_city_code companyType_first  \n",
       "435              12        A       False             1                 Z  \n",
       "714              12        A       False             1                 f  \n",
       "3410             12        A       False             1                 r  \n",
       "3538             12        A       False             1                 k  \n",
       "3856             12        A       False             1                 f  \n",
       "...             ...      ...         ...           ...               ...  \n",
       "154876           12        Z       False            15                 q  \n",
       "155868           12        Z       False            15                 X  \n",
       "159443           12        Z       False            15                 l  \n",
       "160742           12        Z       False            15                 P  \n",
       "163279           12        Z       False            15                 q  \n",
       "\n",
       "[163786 rows x 15 columns]"
      ],
      "text/html": [
       "<div>\n",
       "<style scoped>\n",
       "    .dataframe tbody tr th:only-of-type {\n",
       "        vertical-align: middle;\n",
       "    }\n",
       "\n",
       "    .dataframe tbody tr th {\n",
       "        vertical-align: top;\n",
       "    }\n",
       "\n",
       "    .dataframe thead th {\n",
       "        text-align: right;\n",
       "    }\n",
       "</style>\n",
       "<table border=\"1\" class=\"dataframe\">\n",
       "  <thead>\n",
       "    <tr style=\"text-align: right;\">\n",
       "      <th></th>\n",
       "      <th>_id</th>\n",
       "      <th>city</th>\n",
       "      <th>salary</th>\n",
       "      <th>experience</th>\n",
       "      <th>education</th>\n",
       "      <th>company</th>\n",
       "      <th>companyType</th>\n",
       "      <th>salary_type</th>\n",
       "      <th>salary_min</th>\n",
       "      <th>salary_max</th>\n",
       "      <th>salary_base</th>\n",
       "      <th>province</th>\n",
       "      <th>is_outlier</th>\n",
       "      <th>new_city_code</th>\n",
       "      <th>companyType_first</th>\n",
       "    </tr>\n",
       "  </thead>\n",
       "  <tbody>\n",
       "    <tr>\n",
       "      <th>435</th>\n",
       "      <td>02120b8a907537fee739216562384f27Lf</td>\n",
       "      <td>A050</td>\n",
       "      <td>5-9K</td>\n",
       "      <td>EdD</td>\n",
       "      <td>GI</td>\n",
       "      <td>company_495997</td>\n",
       "      <td>type_ZcPYrP</td>\n",
       "      <td>M</td>\n",
       "      <td>60000</td>\n",
       "      <td>108000</td>\n",
       "      <td>12</td>\n",
       "      <td>A</td>\n",
       "      <td>False</td>\n",
       "      <td>1</td>\n",
       "      <td>Z</td>\n",
       "    </tr>\n",
       "    <tr>\n",
       "      <th>714</th>\n",
       "      <td>0267d6bf768486fee9e135bb99d78821Km</td>\n",
       "      <td>A050</td>\n",
       "      <td>10-15K</td>\n",
       "      <td>Eqh</td>\n",
       "      <td>GI</td>\n",
       "      <td>company_824862</td>\n",
       "      <td>type_fFlUqG</td>\n",
       "      <td>M</td>\n",
       "      <td>120000</td>\n",
       "      <td>180000</td>\n",
       "      <td>12</td>\n",
       "      <td>A</td>\n",
       "      <td>False</td>\n",
       "      <td>1</td>\n",
       "      <td>f</td>\n",
       "    </tr>\n",
       "    <tr>\n",
       "      <th>3410</th>\n",
       "      <td>04c26f94437c683d665b894696218457go</td>\n",
       "      <td>A050</td>\n",
       "      <td>5-10K</td>\n",
       "      <td>EdD</td>\n",
       "      <td>GP</td>\n",
       "      <td>company_797398</td>\n",
       "      <td>type_ruszQK</td>\n",
       "      <td>M</td>\n",
       "      <td>60000</td>\n",
       "      <td>120000</td>\n",
       "      <td>12</td>\n",
       "      <td>A</td>\n",
       "      <td>False</td>\n",
       "      <td>1</td>\n",
       "      <td>r</td>\n",
       "    </tr>\n",
       "    <tr>\n",
       "      <th>3538</th>\n",
       "      <td>050716a1e3496566de850636d9e7eb8dUa</td>\n",
       "      <td>A050</td>\n",
       "      <td>3-4K</td>\n",
       "      <td>EdD</td>\n",
       "      <td>GP</td>\n",
       "      <td>company_779366</td>\n",
       "      <td>type_kCfcsh</td>\n",
       "      <td>M</td>\n",
       "      <td>36000</td>\n",
       "      <td>48000</td>\n",
       "      <td>12</td>\n",
       "      <td>A</td>\n",
       "      <td>False</td>\n",
       "      <td>1</td>\n",
       "      <td>k</td>\n",
       "    </tr>\n",
       "    <tr>\n",
       "      <th>3856</th>\n",
       "      <td>0508d7be415a54eba97a968f8dacd55chL</td>\n",
       "      <td>A050</td>\n",
       "      <td>5-10K</td>\n",
       "      <td>EKk</td>\n",
       "      <td>GP</td>\n",
       "      <td>company_522422</td>\n",
       "      <td>type_fFlUqG</td>\n",
       "      <td>M</td>\n",
       "      <td>60000</td>\n",
       "      <td>120000</td>\n",
       "      <td>12</td>\n",
       "      <td>A</td>\n",
       "      <td>False</td>\n",
       "      <td>1</td>\n",
       "      <td>f</td>\n",
       "    </tr>\n",
       "    <tr>\n",
       "      <th>...</th>\n",
       "      <td>...</td>\n",
       "      <td>...</td>\n",
       "      <td>...</td>\n",
       "      <td>...</td>\n",
       "      <td>...</td>\n",
       "      <td>...</td>\n",
       "      <td>...</td>\n",
       "      <td>...</td>\n",
       "      <td>...</td>\n",
       "      <td>...</td>\n",
       "      <td>...</td>\n",
       "      <td>...</td>\n",
       "      <td>...</td>\n",
       "      <td>...</td>\n",
       "      <td>...</td>\n",
       "    </tr>\n",
       "    <tr>\n",
       "      <th>154876</th>\n",
       "      <td>edb8f555c04b654d9b005d76b63ffc76rZ</td>\n",
       "      <td>Z885</td>\n",
       "      <td>5-6K</td>\n",
       "      <td>EdD</td>\n",
       "      <td>GP</td>\n",
       "      <td>company_601372</td>\n",
       "      <td>type_qGLNuz</td>\n",
       "      <td>M</td>\n",
       "      <td>60000</td>\n",
       "      <td>72000</td>\n",
       "      <td>12</td>\n",
       "      <td>Z</td>\n",
       "      <td>False</td>\n",
       "      <td>15</td>\n",
       "      <td>q</td>\n",
       "    </tr>\n",
       "    <tr>\n",
       "      <th>155868</th>\n",
       "      <td>efaa2b8bd2a6b5ba1400b8f9d5a4c302ub</td>\n",
       "      <td>Z885</td>\n",
       "      <td>4-6K</td>\n",
       "      <td>EdD</td>\n",
       "      <td>Go</td>\n",
       "      <td>company_782797</td>\n",
       "      <td>type_XqvUzw</td>\n",
       "      <td>M</td>\n",
       "      <td>48000</td>\n",
       "      <td>72000</td>\n",
       "      <td>12</td>\n",
       "      <td>Z</td>\n",
       "      <td>False</td>\n",
       "      <td>15</td>\n",
       "      <td>X</td>\n",
       "    </tr>\n",
       "    <tr>\n",
       "      <th>159443</th>\n",
       "      <td>f59c44a5dd839c3438d134bd4c30a69bJx</td>\n",
       "      <td>Z885</td>\n",
       "      <td>4-9K</td>\n",
       "      <td>EdD</td>\n",
       "      <td>GI</td>\n",
       "      <td>company_682974</td>\n",
       "      <td>type_lOdYUb</td>\n",
       "      <td>M</td>\n",
       "      <td>48000</td>\n",
       "      <td>108000</td>\n",
       "      <td>12</td>\n",
       "      <td>Z</td>\n",
       "      <td>False</td>\n",
       "      <td>15</td>\n",
       "      <td>l</td>\n",
       "    </tr>\n",
       "    <tr>\n",
       "      <th>160742</th>\n",
       "      <td>f693da772b6ba497215104c0b3c3f571hM</td>\n",
       "      <td>Z885</td>\n",
       "      <td>4-5K</td>\n",
       "      <td>EdD</td>\n",
       "      <td>GP</td>\n",
       "      <td>company_144052</td>\n",
       "      <td>type_PCcrub</td>\n",
       "      <td>M</td>\n",
       "      <td>48000</td>\n",
       "      <td>60000</td>\n",
       "      <td>12</td>\n",
       "      <td>Z</td>\n",
       "      <td>False</td>\n",
       "      <td>15</td>\n",
       "      <td>P</td>\n",
       "    </tr>\n",
       "    <tr>\n",
       "      <th>163279</th>\n",
       "      <td>fe2f46167b107413f778865ed496791dkk</td>\n",
       "      <td>Z885</td>\n",
       "      <td>4-9K</td>\n",
       "      <td>Eas</td>\n",
       "      <td>GP</td>\n",
       "      <td>company_454718</td>\n",
       "      <td>type_qrSFSq</td>\n",
       "      <td>M</td>\n",
       "      <td>48000</td>\n",
       "      <td>108000</td>\n",
       "      <td>12</td>\n",
       "      <td>Z</td>\n",
       "      <td>False</td>\n",
       "      <td>15</td>\n",
       "      <td>q</td>\n",
       "    </tr>\n",
       "  </tbody>\n",
       "</table>\n",
       "<p>163786 rows × 15 columns</p>\n",
       "</div>"
      ]
     },
     "execution_count": 22,
     "metadata": {},
     "output_type": "execute_result"
    }
   ],
   "execution_count": 22
  },
  {
   "metadata": {
    "ExecuteTime": {
     "end_time": "2024-10-12T03:08:12.470066Z",
     "start_time": "2024-10-12T03:08:12.467815Z"
    }
   },
   "cell_type": "code",
   "source": [
    "data = df[df[\"is_outlier\"]]"
   ],
   "id": "e6c47cee1171f6a3",
   "outputs": [],
   "execution_count": 23
  },
  {
   "metadata": {},
   "cell_type": "markdown",
   "source": "## Model",
   "id": "c470e9f85cce08f9"
  },
  {
   "metadata": {
    "ExecuteTime": {
     "end_time": "2024-10-12T03:08:12.500694Z",
     "start_time": "2024-10-12T03:08:12.498558Z"
    }
   },
   "cell_type": "code",
   "source": [
    "categorical_cols = [\n",
    "    \"_id\",\n",
    "    \"experience\",\n",
    "    \"education\",\n",
    "    \"province\",\n",
    "    \"companyType_first\",\n",
    "    \"companyType\",\n",
    "]\n",
    "integer_col = [\"new_city_code\"]\n",
    "\n",
    "onehot_encoder = OneHotEncoder(handle_unknown=\"ignore\")\n",
    "label_encoder = LabelEncoder()\n",
    "\n",
    "preprocessor = ColumnTransformer(\n",
    "    transformers=[\n",
    "        (\"onehot\", onehot_encoder, categorical_cols),\n",
    "    ],\n",
    "    remainder=\"passthrough\",\n",
    ")"
   ],
   "id": "70e716b1100ba5fe",
   "outputs": [],
   "execution_count": 24
  },
  {
   "metadata": {},
   "cell_type": "markdown",
   "source": "### 数据集划分",
   "id": "62f71f4127835f8e"
  },
  {
   "metadata": {
    "ExecuteTime": {
     "end_time": "2024-10-12T03:08:12.519402Z",
     "start_time": "2024-10-12T03:08:12.516686Z"
    }
   },
   "cell_type": "code",
   "source": [
    "X = data[categorical_cols]\n",
    "y = data[\"salary_min\"]"
   ],
   "id": "e70b1dfafbcd86f3",
   "outputs": [],
   "execution_count": 25
  },
  {
   "metadata": {},
   "cell_type": "markdown",
   "source": "* Origin",
   "id": "a24695823d2fd33f"
  },
  {
   "metadata": {
    "ExecuteTime": {
     "end_time": "2024-10-12T03:08:12.543087Z",
     "start_time": "2024-10-12T03:08:12.541287Z"
    }
   },
   "cell_type": "code",
   "source": [
    "# # 划分训练集和测试集\n",
    "# # X_train, X_test, y_train, y_test = train_test_split(X, y, test_size=0.2, random_state=42)\n",
    "\n",
    "# # X_train = X_test = X\n",
    "# # y_train = y_test = y"
   ],
   "id": "f05fb4d4255069ff",
   "outputs": [],
   "execution_count": 26
  },
  {
   "metadata": {
    "ExecuteTime": {
     "end_time": "2024-10-12T03:08:32.582122Z",
     "start_time": "2024-10-12T03:08:32.547564Z"
    }
   },
   "cell_type": "code",
   "source": [
    "test_size = 0.2\n",
    "\n",
    "X_train_list, y_train_list = [], []\n",
    "X_test_list, y_test_list = [], []\n",
    "X_columns = categorical_cols + integer_col\n",
    "y_column = \"salary_max\"\n",
    "\n",
    "grouped = data.groupby([\"_id\", \"companyType_first\", \"province\"])\n",
    "\n",
    "rec_test_samples = []\n",
    "for name, group in grouped:\n",
    "    group_size = len(group)\n",
    "    test_samples = max(1, ceil(test_size * group_size))\n",
    "    rec_test_samples.append(test_samples)\n",
    "\n",
    "    if test_samples == group_size:\n",
    "        X_test_list.append(group[X_columns])\n",
    "        y_test_list.append(group[y_column])\n",
    "        X_train_list.append(group[X_columns])\n",
    "        y_train_list.append(group[y_column])\n",
    "    else:\n",
    "        test_indices = group.sample(n=test_samples).index\n",
    "        train_indices = group.index.difference(test_indices)\n",
    "\n",
    "        X_test_list.append(group.loc[test_indices, X_columns])\n",
    "        y_test_list.append(group.loc[test_indices, y_column])\n",
    "\n",
    "        X_train_list.append(group.loc[train_indices, X_columns])\n",
    "        y_train_list.append(group.loc[train_indices, y_column])\n",
    "\n",
    "X_train = pd.concat(X_train_list, ignore_index=True)\n",
    "y_train = pd.concat(y_train_list, ignore_index=True)\n",
    "X_test = pd.concat(X_test_list, ignore_index=True)\n",
    "y_test = pd.concat(y_test_list, ignore_index=True)"
   ],
   "id": "8eea2c194f2c5431",
   "outputs": [
    {
     "ename": "ValueError",
     "evalue": "No objects to concatenate",
     "output_type": "error",
     "traceback": [
      "\u001B[0;31m---------------------------------------------------------------------------\u001B[0m",
      "\u001B[0;31mValueError\u001B[0m                                Traceback (most recent call last)",
      "Cell \u001B[0;32mIn[29], line 31\u001B[0m\n\u001B[1;32m     28\u001B[0m         X_train_list\u001B[38;5;241m.\u001B[39mappend(group\u001B[38;5;241m.\u001B[39mloc[train_indices, X_columns])\n\u001B[1;32m     29\u001B[0m         y_train_list\u001B[38;5;241m.\u001B[39mappend(group\u001B[38;5;241m.\u001B[39mloc[train_indices, y_column])\n\u001B[0;32m---> 31\u001B[0m X_train \u001B[38;5;241m=\u001B[39m \u001B[43mpd\u001B[49m\u001B[38;5;241;43m.\u001B[39;49m\u001B[43mconcat\u001B[49m\u001B[43m(\u001B[49m\u001B[43mX_train_list\u001B[49m\u001B[43m,\u001B[49m\u001B[43m \u001B[49m\u001B[43mignore_index\u001B[49m\u001B[38;5;241;43m=\u001B[39;49m\u001B[38;5;28;43;01mTrue\u001B[39;49;00m\u001B[43m)\u001B[49m\n\u001B[1;32m     32\u001B[0m y_train \u001B[38;5;241m=\u001B[39m pd\u001B[38;5;241m.\u001B[39mconcat(y_train_list, ignore_index\u001B[38;5;241m=\u001B[39m\u001B[38;5;28;01mTrue\u001B[39;00m)\n\u001B[1;32m     33\u001B[0m X_test \u001B[38;5;241m=\u001B[39m pd\u001B[38;5;241m.\u001B[39mconcat(X_test_list, ignore_index\u001B[38;5;241m=\u001B[39m\u001B[38;5;28;01mTrue\u001B[39;00m)\n",
      "File \u001B[0;32m/opt/anaconda3/envs/dataMining/lib/python3.10/site-packages/pandas/core/reshape/concat.py:382\u001B[0m, in \u001B[0;36mconcat\u001B[0;34m(objs, axis, join, ignore_index, keys, levels, names, verify_integrity, sort, copy)\u001B[0m\n\u001B[1;32m    379\u001B[0m \u001B[38;5;28;01melif\u001B[39;00m copy \u001B[38;5;129;01mand\u001B[39;00m using_copy_on_write():\n\u001B[1;32m    380\u001B[0m     copy \u001B[38;5;241m=\u001B[39m \u001B[38;5;28;01mFalse\u001B[39;00m\n\u001B[0;32m--> 382\u001B[0m op \u001B[38;5;241m=\u001B[39m \u001B[43m_Concatenator\u001B[49m\u001B[43m(\u001B[49m\n\u001B[1;32m    383\u001B[0m \u001B[43m    \u001B[49m\u001B[43mobjs\u001B[49m\u001B[43m,\u001B[49m\n\u001B[1;32m    384\u001B[0m \u001B[43m    \u001B[49m\u001B[43maxis\u001B[49m\u001B[38;5;241;43m=\u001B[39;49m\u001B[43maxis\u001B[49m\u001B[43m,\u001B[49m\n\u001B[1;32m    385\u001B[0m \u001B[43m    \u001B[49m\u001B[43mignore_index\u001B[49m\u001B[38;5;241;43m=\u001B[39;49m\u001B[43mignore_index\u001B[49m\u001B[43m,\u001B[49m\n\u001B[1;32m    386\u001B[0m \u001B[43m    \u001B[49m\u001B[43mjoin\u001B[49m\u001B[38;5;241;43m=\u001B[39;49m\u001B[43mjoin\u001B[49m\u001B[43m,\u001B[49m\n\u001B[1;32m    387\u001B[0m \u001B[43m    \u001B[49m\u001B[43mkeys\u001B[49m\u001B[38;5;241;43m=\u001B[39;49m\u001B[43mkeys\u001B[49m\u001B[43m,\u001B[49m\n\u001B[1;32m    388\u001B[0m \u001B[43m    \u001B[49m\u001B[43mlevels\u001B[49m\u001B[38;5;241;43m=\u001B[39;49m\u001B[43mlevels\u001B[49m\u001B[43m,\u001B[49m\n\u001B[1;32m    389\u001B[0m \u001B[43m    \u001B[49m\u001B[43mnames\u001B[49m\u001B[38;5;241;43m=\u001B[39;49m\u001B[43mnames\u001B[49m\u001B[43m,\u001B[49m\n\u001B[1;32m    390\u001B[0m \u001B[43m    \u001B[49m\u001B[43mverify_integrity\u001B[49m\u001B[38;5;241;43m=\u001B[39;49m\u001B[43mverify_integrity\u001B[49m\u001B[43m,\u001B[49m\n\u001B[1;32m    391\u001B[0m \u001B[43m    \u001B[49m\u001B[43mcopy\u001B[49m\u001B[38;5;241;43m=\u001B[39;49m\u001B[43mcopy\u001B[49m\u001B[43m,\u001B[49m\n\u001B[1;32m    392\u001B[0m \u001B[43m    \u001B[49m\u001B[43msort\u001B[49m\u001B[38;5;241;43m=\u001B[39;49m\u001B[43msort\u001B[49m\u001B[43m,\u001B[49m\n\u001B[1;32m    393\u001B[0m \u001B[43m\u001B[49m\u001B[43m)\u001B[49m\n\u001B[1;32m    395\u001B[0m \u001B[38;5;28;01mreturn\u001B[39;00m op\u001B[38;5;241m.\u001B[39mget_result()\n",
      "File \u001B[0;32m/opt/anaconda3/envs/dataMining/lib/python3.10/site-packages/pandas/core/reshape/concat.py:445\u001B[0m, in \u001B[0;36m_Concatenator.__init__\u001B[0;34m(self, objs, axis, join, keys, levels, names, ignore_index, verify_integrity, copy, sort)\u001B[0m\n\u001B[1;32m    442\u001B[0m \u001B[38;5;28mself\u001B[39m\u001B[38;5;241m.\u001B[39mverify_integrity \u001B[38;5;241m=\u001B[39m verify_integrity\n\u001B[1;32m    443\u001B[0m \u001B[38;5;28mself\u001B[39m\u001B[38;5;241m.\u001B[39mcopy \u001B[38;5;241m=\u001B[39m copy\n\u001B[0;32m--> 445\u001B[0m objs, keys \u001B[38;5;241m=\u001B[39m \u001B[38;5;28;43mself\u001B[39;49m\u001B[38;5;241;43m.\u001B[39;49m\u001B[43m_clean_keys_and_objs\u001B[49m\u001B[43m(\u001B[49m\u001B[43mobjs\u001B[49m\u001B[43m,\u001B[49m\u001B[43m \u001B[49m\u001B[43mkeys\u001B[49m\u001B[43m)\u001B[49m\n\u001B[1;32m    447\u001B[0m \u001B[38;5;66;03m# figure out what our result ndim is going to be\u001B[39;00m\n\u001B[1;32m    448\u001B[0m ndims \u001B[38;5;241m=\u001B[39m \u001B[38;5;28mself\u001B[39m\u001B[38;5;241m.\u001B[39m_get_ndims(objs)\n",
      "File \u001B[0;32m/opt/anaconda3/envs/dataMining/lib/python3.10/site-packages/pandas/core/reshape/concat.py:507\u001B[0m, in \u001B[0;36m_Concatenator._clean_keys_and_objs\u001B[0;34m(self, objs, keys)\u001B[0m\n\u001B[1;32m    504\u001B[0m     objs_list \u001B[38;5;241m=\u001B[39m \u001B[38;5;28mlist\u001B[39m(objs)\n\u001B[1;32m    506\u001B[0m \u001B[38;5;28;01mif\u001B[39;00m \u001B[38;5;28mlen\u001B[39m(objs_list) \u001B[38;5;241m==\u001B[39m \u001B[38;5;241m0\u001B[39m:\n\u001B[0;32m--> 507\u001B[0m     \u001B[38;5;28;01mraise\u001B[39;00m \u001B[38;5;167;01mValueError\u001B[39;00m(\u001B[38;5;124m\"\u001B[39m\u001B[38;5;124mNo objects to concatenate\u001B[39m\u001B[38;5;124m\"\u001B[39m)\n\u001B[1;32m    509\u001B[0m \u001B[38;5;28;01mif\u001B[39;00m keys \u001B[38;5;129;01mis\u001B[39;00m \u001B[38;5;28;01mNone\u001B[39;00m:\n\u001B[1;32m    510\u001B[0m     objs_list \u001B[38;5;241m=\u001B[39m \u001B[38;5;28mlist\u001B[39m(com\u001B[38;5;241m.\u001B[39mnot_none(\u001B[38;5;241m*\u001B[39mobjs_list))\n",
      "\u001B[0;31mValueError\u001B[0m: No objects to concatenate"
     ]
    }
   ],
   "execution_count": 29
  },
  {
   "metadata": {},
   "cell_type": "markdown",
   "source": "### 训练",
   "id": "aea32da8e68d8635"
  },
  {
   "metadata": {
    "ExecuteTime": {
     "end_time": "2024-10-12T03:08:12.655904Z",
     "start_time": "2024-10-12T03:07:51.740736Z"
    }
   },
   "cell_type": "code",
   "source": [
    "model = DecisionTreeRegressor(random_state=10)\n",
    "\n",
    "pipeline = Pipeline([(\"preprocessor\", preprocessor), (\"model\", model)])"
   ],
   "id": "1f25b9647ddb6a13",
   "outputs": [],
   "execution_count": 15
  },
  {
   "metadata": {},
   "cell_type": "markdown",
   "source": [
    "we heave test the following rondom_state:\n",
    "- 42\n",
    "- 10(_id, cpT_f, province)+categorical_cols = ['_id' ,'experience', 'education', 'province', 'companyType_first', 'companyType'] + integer_col = ['new_city_code'] "
   ],
   "id": "2c2a2a2f7b1dfc8f"
  },
  {
   "metadata": {
    "ExecuteTime": {
     "end_time": "2024-10-12T03:08:12.656164Z",
     "start_time": "2024-10-12T03:07:53.335887Z"
    }
   },
   "cell_type": "code",
   "source": "pipeline.fit(X_train, y_train)",
   "id": "95ba78e9e0c5919b",
   "outputs": [
    {
     "ename": "NameError",
     "evalue": "name 'X_train' is not defined",
     "output_type": "error",
     "traceback": [
      "\u001B[0;31m---------------------------------------------------------------------------\u001B[0m",
      "\u001B[0;31mNameError\u001B[0m                                 Traceback (most recent call last)",
      "Cell \u001B[0;32mIn[16], line 1\u001B[0m\n\u001B[0;32m----> 1\u001B[0m pipeline\u001B[38;5;241m.\u001B[39mfit(\u001B[43mX_train\u001B[49m, y_train)\n",
      "\u001B[0;31mNameError\u001B[0m: name 'X_train' is not defined"
     ]
    }
   ],
   "execution_count": 16
  },
  {
   "metadata": {},
   "cell_type": "code",
   "outputs": [],
   "execution_count": null,
   "source": [
    "onehot_feature_names = pipeline[:-1].get_feature_names_out()"
   ],
   "id": "bfaac4efa3188493"
  },
  {
   "metadata": {},
   "cell_type": "code",
   "outputs": [],
   "execution_count": null,
   "source": [
    "y_pred = pipeline.predict(X_test)\n",
    "y_trainpred = pipeline.predict(X_train)"
   ],
   "id": "cd549bdea3a2755d"
  },
  {
   "metadata": {},
   "cell_type": "code",
   "outputs": [],
   "execution_count": null,
   "source": [
    "results_df = pd.DataFrame({\"y_pred\": y_pred, \"y_test\": y_test})  # 预测值列  # 真实值列\n",
    "\n",
    "results_train = pd.DataFrame(\n",
    "    {\n",
    "        \"y_pred\": y_trainpred,\n",
    "        \"y_train\": y_train,\n",
    "    }\n",
    ")"
   ],
   "id": "210dcd2ba559c807"
  },
  {
   "metadata": {},
   "cell_type": "code",
   "outputs": [],
   "execution_count": null,
   "source": "results_df.head(60)",
   "id": "a2ff86da0518739c"
  },
  {
   "metadata": {},
   "cell_type": "markdown",
   "source": "## Overview",
   "id": "b33d668f94481c5f"
  },
  {
   "metadata": {},
   "cell_type": "markdown",
   "source": "### 模型信息查看",
   "id": "82e8f9f4a460f63e"
  },
  {
   "metadata": {},
   "cell_type": "code",
   "outputs": [],
   "execution_count": null,
   "source": "model.feature_importances_",
   "id": "7d9c3ff6bab15a19"
  },
  {
   "metadata": {},
   "cell_type": "code",
   "outputs": [],
   "execution_count": null,
   "source": [
    "dfx = pd.DataFrame(model.feature_importances_)\n",
    "dfx"
   ],
   "id": "8a415f469f8327e6"
  },
  {
   "metadata": {},
   "cell_type": "markdown",
   "source": "### 结果可视化",
   "id": "164cdeacfcb17e95"
  },
  {
   "metadata": {},
   "cell_type": "code",
   "outputs": [],
   "execution_count": null,
   "source": [
    "mse = mean_squared_error(y_pred, y_test)\n",
    "mse_train = mean_squared_error(y_trainpred, y_train)\n",
    "\n",
    "show = [mse, mse_train]\n",
    "show"
   ],
   "id": "5b7b038f2cbae79e"
  },
  {
   "metadata": {},
   "cell_type": "markdown",
   "source": [
    "[6029831358.9854765, 148836859.96051523]\n",
    "\n",
    "[5195698107.9117565, 100187161.25651084]\n",
    "\n",
    "[1882556360.7046676, 73682938.51298605]\n",
    "\n",
    "----\n",
    "\n",
    "[3642066377.8527784, 304594929.26954085]\n"
   ],
   "id": "974c8fff1ac948c0"
  },
  {
   "metadata": {},
   "cell_type": "code",
   "outputs": [],
   "execution_count": null,
   "source": [
    "allDataLength = len(y_pred)\n",
    "indices = np.arange(1000)\n",
    "\n",
    "# plt.figure(figsize=(10, 6))\n",
    "# plt.bar(indices, results_df[\"y_test\"].head(300), width=0.4, color='g', align='center')\n",
    "# plt.bar(indices + 0.4, results_df[\"y_pred\"].head(300), width=0.4, color='b', align='center')\n",
    "\n",
    "# plt.show()"
   ],
   "id": "ac8369310a20533b"
  },
  {
   "metadata": {},
   "cell_type": "code",
   "outputs": [],
   "execution_count": null,
   "source": [
    "results_df[\"delta\"] = results_df[\"y_pred\"] - results_df[\"y_test\"]\n",
    "\n",
    "plt.figure(figsize=(10, 6))\n",
    "plt.bar(indices, results_df[\"delta\"].head(1000), width=0.4, color=\"r\", align=\"center\")\n",
    "plt.show()"
   ],
   "id": "c922801f85588d4f"
  },
  {
   "metadata": {},
   "cell_type": "code",
   "outputs": [],
   "execution_count": null,
   "source": [
    "indices = np.arange(1000)\n",
    "\n",
    "results_train[\"delta\"] = results_train[\"y_pred\"] - results_train[\"y_train\"]\n",
    "\n",
    "plt.figure(figsize=(10, 6))\n",
    "plt.bar(\n",
    "    indices, results_train[\"delta\"].head(1000), width=0.4, color=\"r\", align=\"center\"\n",
    ")"
   ],
   "id": "799bc881da558ff2"
  },
  {
   "metadata": {},
   "cell_type": "code",
   "outputs": [],
   "execution_count": null,
   "source": [
    "num_features_used_by_model = model.tree_.n_features\n",
    "if len(onehot_feature_names) < num_features_used_by_model:\n",
    "    print(\"特征名称列表不完整，请添加缺失的特征名称。\")"
   ],
   "id": "edb70ff9ae0d5ad5"
  },
  {
   "metadata": {},
   "cell_type": "code",
   "outputs": [],
   "execution_count": null,
   "source": [
    "dfx[\"feature\"] = onehot_feature_names\n",
    "dfx.columns = [\"value\", \"feature\"]"
   ],
   "id": "3c78eefa0d5caafb"
  },
  {
   "metadata": {},
   "cell_type": "code",
   "outputs": [],
   "execution_count": null,
   "source": [
    "dfx_sorted = dfx.sort_values(by=[\"value\"], ascending=False)\n",
    "dfx_sorted.head(50)"
   ],
   "id": "14e438db9bf16b2b"
  },
  {
   "metadata": {},
   "cell_type": "code",
   "outputs": [],
   "execution_count": null,
   "source": [
    "counter = defaultdict(int)\n",
    "\n",
    "features = [\"_id\", \"education\", \"experience\", \"province\", \"new_city_code\"]\n",
    "for index, row in dfx.iterrows():\n",
    "    for feature in features:\n",
    "        if feature in row[\"feature\"]:\n",
    "            counter[feature] += row[\"value\"]\n",
    "\n",
    "    if \"companyType_first\" in row[\"feature\"]:\n",
    "        counter[\"companyType_first\"] += row[\"value\"]\n",
    "    elif \"companyType\" in row[\"feature\"]:\n",
    "        counter[\"companyType\"] += row[\"value\"]\n",
    "\n",
    "result = pd.DataFrame.from_dict(counter, orient=\"index\", columns=[\"count\"]).rename_axis(\n",
    "    \"Feature\"\n",
    ")\n",
    "result.columns = [\"calc\"]"
   ],
   "id": "deb00c8ca2dd9102"
  },
  {
   "metadata": {},
   "cell_type": "code",
   "outputs": [],
   "execution_count": null,
   "source": [
    "plt.figure(figsize=(15, 10))\n",
    "\n",
    "colors = [\"#f0d9e6\", \"#e6c2d9\", \"#d9a9cc\", \"#cca0bf\"]\n",
    "\n",
    "painter_name = [\"experience\", \"education\", \"province\", \"companyType\"]\n",
    "painter = [\n",
    "    result.calc[\"experience\"],\n",
    "    result.calc[\"education\"],\n",
    "    result.calc[\"province\"],\n",
    "    result.calc[\"companyType\"],\n",
    "]\n",
    "painterSum = 0\n",
    "for x in painter:\n",
    "    painterSum += x\n",
    "\n",
    "for i in range(len(painter)):\n",
    "    painter[i] = painter[i] / painterSum\n",
    "\n",
    "painter"
   ],
   "id": "cf743e63ef9986da"
  },
  {
   "metadata": {},
   "cell_type": "code",
   "outputs": [],
   "execution_count": null,
   "source": [
    "plt.figure(figsize=(15, 10))\n",
    "\n",
    "colors = [\"#f0d9e6\", \"#e6c2d9\", \"#cca0bf\", \"#a5708c\"]\n",
    "\n",
    "pie = plt.pie(painter, autopct=\"%1.3f%%\", startangle=140, colors=colors)\n",
    "plt.legend(pie[0], painter_name, loc=\"best\")\n",
    "\n",
    "plt.show()"
   ],
   "id": "3b8bd6d38ff54a98"
  },
  {
   "metadata": {},
   "cell_type": "code",
   "outputs": [],
   "execution_count": null,
   "source": [
    "plt.figure(figsize=(15, 10))\n",
    "\n",
    "colors = [\"#f0d9e6\", \"#e6c2d9\", \"#d9a9cc\", \"#cca0bf\", \"#bf88a5\", \"#a5708c\"]\n",
    "\n",
    "pie = plt.pie(result[\"count\"], autopct=\"%1.3f%%\", startangle=140, colors=colors)\n",
    "legend_list = result.index.to_list()\n",
    "legend_list[-1] = \"city\"\n",
    "legend_list[0] = \"job_titles\"\n",
    "plt.legend(pie[0], legend_list, loc=\"best\")\n",
    "\n",
    "plt.show()"
   ],
   "id": "5c4d0b655111d9f"
  },
  {
   "metadata": {},
   "cell_type": "code",
   "outputs": [],
   "execution_count": null,
   "source": "legend_list",
   "id": "a17291508f35a863"
  },
  {
   "metadata": {},
   "cell_type": "code",
   "outputs": [],
   "execution_count": null,
   "source": [
    "plt.figure(figsize=(15, 10))\n",
    "plot_tree(model, feature_names=onehot_feature_names, filled=True)\n",
    "plt.show()"
   ],
   "id": "5319448881962381"
  }
 ],
 "metadata": {
  "kernelspec": {
   "display_name": "Python 3",
   "language": "python",
   "name": "python3"
  },
  "language_info": {
   "codemirror_mode": {
    "name": "ipython",
    "version": 2
   },
   "file_extension": ".py",
   "mimetype": "text/x-python",
   "name": "python",
   "nbconvert_exporter": "python",
   "pygments_lexer": "ipython2",
   "version": "2.7.6"
  }
 },
 "nbformat": 4,
 "nbformat_minor": 5
}
